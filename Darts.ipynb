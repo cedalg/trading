{
 "cells": [
  {
   "cell_type": "code",
   "execution_count": 1,
   "metadata": {},
   "outputs": [],
   "source": [
    "import pandas as pd\n",
    "from darts import TimeSeries"
   ]
  },
  {
   "cell_type": "code",
   "execution_count": 3,
   "metadata": {},
   "outputs": [],
   "source": [
    "df = pd.read_csv(\"NVDA.csv\")"
   ]
  },
  {
   "cell_type": "code",
   "execution_count": 4,
   "metadata": {},
   "outputs": [
    {
     "data": {
      "text/html": [
       "<div>\n",
       "<style scoped>\n",
       "    .dataframe tbody tr th:only-of-type {\n",
       "        vertical-align: middle;\n",
       "    }\n",
       "\n",
       "    .dataframe tbody tr th {\n",
       "        vertical-align: top;\n",
       "    }\n",
       "\n",
       "    .dataframe thead th {\n",
       "        text-align: right;\n",
       "    }\n",
       "</style>\n",
       "<table border=\"1\" class=\"dataframe\">\n",
       "  <thead>\n",
       "    <tr style=\"text-align: right;\">\n",
       "      <th></th>\n",
       "      <th>Company</th>\n",
       "      <th>Date</th>\n",
       "      <th>Open</th>\n",
       "      <th>High</th>\n",
       "      <th>Low</th>\n",
       "      <th>Close</th>\n",
       "      <th>Volume</th>\n",
       "    </tr>\n",
       "  </thead>\n",
       "  <tbody>\n",
       "    <tr>\n",
       "      <th>0</th>\n",
       "      <td>NVDA</td>\n",
       "      <td>2020-09-11</td>\n",
       "      <td>499.42</td>\n",
       "      <td>506.10</td>\n",
       "      <td>475.83</td>\n",
       "      <td>486.58</td>\n",
       "      <td>15923172</td>\n",
       "    </tr>\n",
       "    <tr>\n",
       "      <th>1</th>\n",
       "      <td>NVDA</td>\n",
       "      <td>2020-09-10</td>\n",
       "      <td>519.57</td>\n",
       "      <td>522.61</td>\n",
       "      <td>486.68</td>\n",
       "      <td>492.47</td>\n",
       "      <td>17467111</td>\n",
       "    </tr>\n",
       "    <tr>\n",
       "      <th>2</th>\n",
       "      <td>NVDA</td>\n",
       "      <td>2020-09-09</td>\n",
       "      <td>496.00</td>\n",
       "      <td>512.37</td>\n",
       "      <td>489.27</td>\n",
       "      <td>508.60</td>\n",
       "      <td>18404957</td>\n",
       "    </tr>\n",
       "    <tr>\n",
       "      <th>3</th>\n",
       "      <td>NVDA</td>\n",
       "      <td>2020-09-08</td>\n",
       "      <td>469.38</td>\n",
       "      <td>502.00</td>\n",
       "      <td>468.17</td>\n",
       "      <td>476.52</td>\n",
       "      <td>19893237</td>\n",
       "    </tr>\n",
       "    <tr>\n",
       "      <th>4</th>\n",
       "      <td>NVDA</td>\n",
       "      <td>2020-09-04</td>\n",
       "      <td>511.35</td>\n",
       "      <td>527.00</td>\n",
       "      <td>468.19</td>\n",
       "      <td>504.90</td>\n",
       "      <td>36592071</td>\n",
       "    </tr>\n",
       "    <tr>\n",
       "      <th>...</th>\n",
       "      <td>...</td>\n",
       "      <td>...</td>\n",
       "      <td>...</td>\n",
       "      <td>...</td>\n",
       "      <td>...</td>\n",
       "      <td>...</td>\n",
       "      <td>...</td>\n",
       "    </tr>\n",
       "    <tr>\n",
       "      <th>5245</th>\n",
       "      <td>NVDA</td>\n",
       "      <td>1999-11-05</td>\n",
       "      <td>30.00</td>\n",
       "      <td>30.25</td>\n",
       "      <td>26.88</td>\n",
       "      <td>28.25</td>\n",
       "      <td>1284100</td>\n",
       "    </tr>\n",
       "    <tr>\n",
       "      <th>5246</th>\n",
       "      <td>NVDA</td>\n",
       "      <td>1999-11-04</td>\n",
       "      <td>27.75</td>\n",
       "      <td>29.94</td>\n",
       "      <td>27.75</td>\n",
       "      <td>29.19</td>\n",
       "      <td>2625700</td>\n",
       "    </tr>\n",
       "    <tr>\n",
       "      <th>5247</th>\n",
       "      <td>NVDA</td>\n",
       "      <td>1999-11-03</td>\n",
       "      <td>26.00</td>\n",
       "      <td>28.13</td>\n",
       "      <td>25.81</td>\n",
       "      <td>27.44</td>\n",
       "      <td>4191000</td>\n",
       "    </tr>\n",
       "    <tr>\n",
       "      <th>5248</th>\n",
       "      <td>NVDA</td>\n",
       "      <td>1999-11-02</td>\n",
       "      <td>23.94</td>\n",
       "      <td>25.13</td>\n",
       "      <td>23.75</td>\n",
       "      <td>25.00</td>\n",
       "      <td>1744800</td>\n",
       "    </tr>\n",
       "    <tr>\n",
       "      <th>5249</th>\n",
       "      <td>NVDA</td>\n",
       "      <td>1999-11-01</td>\n",
       "      <td>21.75</td>\n",
       "      <td>24.38</td>\n",
       "      <td>21.75</td>\n",
       "      <td>23.50</td>\n",
       "      <td>1630300</td>\n",
       "    </tr>\n",
       "  </tbody>\n",
       "</table>\n",
       "<p>5250 rows × 7 columns</p>\n",
       "</div>"
      ],
      "text/plain": [
       "     Company        Date    Open    High     Low   Close    Volume\n",
       "0       NVDA  2020-09-11  499.42  506.10  475.83  486.58  15923172\n",
       "1       NVDA  2020-09-10  519.57  522.61  486.68  492.47  17467111\n",
       "2       NVDA  2020-09-09  496.00  512.37  489.27  508.60  18404957\n",
       "3       NVDA  2020-09-08  469.38  502.00  468.17  476.52  19893237\n",
       "4       NVDA  2020-09-04  511.35  527.00  468.19  504.90  36592071\n",
       "...      ...         ...     ...     ...     ...     ...       ...\n",
       "5245    NVDA  1999-11-05   30.00   30.25   26.88   28.25   1284100\n",
       "5246    NVDA  1999-11-04   27.75   29.94   27.75   29.19   2625700\n",
       "5247    NVDA  1999-11-03   26.00   28.13   25.81   27.44   4191000\n",
       "5248    NVDA  1999-11-02   23.94   25.13   23.75   25.00   1744800\n",
       "5249    NVDA  1999-11-01   21.75   24.38   21.75   23.50   1630300\n",
       "\n",
       "[5250 rows x 7 columns]"
      ]
     },
     "execution_count": 4,
     "metadata": {},
     "output_type": "execute_result"
    }
   ],
   "source": [
    "df"
   ]
  },
  {
   "cell_type": "code",
   "execution_count": 14,
   "metadata": {},
   "outputs": [],
   "source": [
    "series = TimeSeries.from_dataframe(df, \"Date\", \"Open\", freq = \"B\")"
   ]
  },
  {
   "cell_type": "code",
   "execution_count": 17,
   "metadata": {},
   "outputs": [
    {
     "ename": "ModuleNotFoundError",
     "evalue": "No module named 'darts.model'",
     "output_type": "error",
     "traceback": [
      "\u001b[0;31m---------------------------------------------------------------------------\u001b[0m",
      "\u001b[0;31mModuleNotFoundError\u001b[0m                       Traceback (most recent call last)",
      "\u001b[0;32m<ipython-input-17-25b3475d2b3c>\u001b[0m in \u001b[0;36m<module>\u001b[0;34m\u001b[0m\n\u001b[0;32m----> 1\u001b[0;31m \u001b[0;32mfrom\u001b[0m \u001b[0mdarts\u001b[0m\u001b[0;34m.\u001b[0m\u001b[0mmodel\u001b[0m \u001b[0;32mimport\u001b[0m \u001b[0mExponentialSmoothing\u001b[0m\u001b[0;34m\u001b[0m\u001b[0;34m\u001b[0m\u001b[0m\n\u001b[0m",
      "\u001b[0;31mModuleNotFoundError\u001b[0m: No module named 'darts.model'"
     ]
    }
   ],
   "source": [
    "from darts.model import ExponentialSmoothing\n"
   ]
  },
  {
   "cell_type": "code",
   "execution_count": 16,
   "metadata": {},
   "outputs": [
    {
     "name": "stdout",
     "output_type": "stream",
     "text": [
      "\u001b[31mERROR: Could not find a version that satisfies the requirement darts.model (from versions: none)\u001b[0m\n",
      "\u001b[31mERROR: No matching distribution found for darts.model\u001b[0m\n",
      "Note: you may need to restart the kernel to use updated packages.\n"
     ]
    }
   ],
   "source": [
    "pip install darts.model"
   ]
  },
  {
   "cell_type": "code",
   "execution_count": 2,
   "metadata": {},
   "outputs": [
    {
     "ename": "ModuleNotFoundError",
     "evalue": "No module named 'darts.model'",
     "output_type": "error",
     "traceback": [
      "\u001b[0;31m---------------------------------------------------------------------------\u001b[0m",
      "\u001b[0;31mModuleNotFoundError\u001b[0m                       Traceback (most recent call last)",
      "\u001b[0;32m<ipython-input-2-6d00fcf9b287>\u001b[0m in \u001b[0;36m<module>\u001b[0;34m\u001b[0m\n\u001b[0;32m----> 1\u001b[0;31m \u001b[0;32mimport\u001b[0m \u001b[0mdarts\u001b[0m\u001b[0;34m.\u001b[0m\u001b[0mmodel\u001b[0m\u001b[0;34m\u001b[0m\u001b[0;34m\u001b[0m\u001b[0m\n\u001b[0m",
      "\u001b[0;31mModuleNotFoundError\u001b[0m: No module named 'darts.model'"
     ]
    }
   ],
   "source": [
    "import darts.model"
   ]
  },
  {
   "cell_type": "code",
   "execution_count": 3,
   "metadata": {},
   "outputs": [],
   "source": [
    "import sys"
   ]
  },
  {
   "cell_type": "code",
   "execution_count": 4,
   "metadata": {},
   "outputs": [
    {
     "data": {
      "text/plain": [
       "'3.7.6 (default, Jan  8 2020, 19:59:22) \\n[GCC 7.3.0]'"
      ]
     },
     "execution_count": 4,
     "metadata": {},
     "output_type": "execute_result"
    }
   ],
   "source": [
    "sys.version"
   ]
  },
  {
   "cell_type": "code",
   "execution_count": 3,
   "metadata": {},
   "outputs": [
    {
     "name": "stdout",
     "output_type": "stream",
     "text": [
      "Requirement already satisfied: darts in /home/cedric/anaconda3/lib/python3.7/site-packages (0.0.1.post1)\n",
      "Requirement already satisfied: numpy in /home/cedric/anaconda3/lib/python3.7/site-packages (from darts) (1.18.1)\n",
      "Requirement already satisfied: scikit-learn in /home/cedric/anaconda3/lib/python3.7/site-packages (from darts) (0.22.1)\n",
      "Requirement already satisfied: torch in /home/cedric/anaconda3/lib/python3.7/site-packages (from darts) (1.6.0)\n",
      "Requirement already satisfied: nibabel in /home/cedric/anaconda3/lib/python3.7/site-packages (from darts) (3.1.1)\n",
      "Requirement already satisfied: torchvision in /home/cedric/anaconda3/lib/python3.7/site-packages (from darts) (0.7.0)\n",
      "Requirement already satisfied: gdown in /home/cedric/anaconda3/lib/python3.7/site-packages (from darts) (3.12.2)\n",
      "Requirement already satisfied: pandas in /home/cedric/anaconda3/lib/python3.7/site-packages (from darts) (1.0.1)\n",
      "Requirement already satisfied: Pillow in /home/cedric/anaconda3/lib/python3.7/site-packages (from darts) (7.0.0)\n",
      "Requirement already satisfied: scikit-image in /home/cedric/anaconda3/lib/python3.7/site-packages (from darts) (0.16.2)\n",
      "Requirement already satisfied: matplotlib in /home/cedric/anaconda3/lib/python3.7/site-packages (from darts) (3.3.2)\n",
      "Requirement already satisfied: ipython in /home/cedric/anaconda3/lib/python3.7/site-packages (from darts) (7.18.1)\n",
      "Requirement already satisfied: scipy in /home/cedric/anaconda3/lib/python3.7/site-packages (from darts) (1.4.1)\n",
      "Requirement already satisfied: joblib>=0.11 in /home/cedric/anaconda3/lib/python3.7/site-packages (from scikit-learn->darts) (0.14.1)\n",
      "Requirement already satisfied: future in /home/cedric/anaconda3/lib/python3.7/site-packages (from torch->darts) (0.18.2)\n",
      "Requirement already satisfied: packaging>=14.3 in /home/cedric/anaconda3/lib/python3.7/site-packages (from nibabel->darts) (20.1)\n",
      "Requirement already satisfied: filelock in /home/cedric/anaconda3/lib/python3.7/site-packages (from gdown->darts) (3.0.12)\n",
      "Requirement already satisfied: requests[socks] in /home/cedric/anaconda3/lib/python3.7/site-packages (from gdown->darts) (2.22.0)\n",
      "Requirement already satisfied: tqdm in /home/cedric/anaconda3/lib/python3.7/site-packages (from gdown->darts) (4.49.0)\n",
      "Requirement already satisfied: six in /home/cedric/anaconda3/lib/python3.7/site-packages (from gdown->darts) (1.14.0)\n",
      "Requirement already satisfied: pytz>=2017.2 in /home/cedric/anaconda3/lib/python3.7/site-packages (from pandas->darts) (2019.3)\n",
      "Requirement already satisfied: python-dateutil>=2.6.1 in /home/cedric/anaconda3/lib/python3.7/site-packages (from pandas->darts) (2.8.1)\n",
      "Requirement already satisfied: PyWavelets>=0.4.0 in /home/cedric/anaconda3/lib/python3.7/site-packages (from scikit-image->darts) (1.1.1)\n",
      "Requirement already satisfied: networkx>=2.0 in /home/cedric/anaconda3/lib/python3.7/site-packages (from scikit-image->darts) (2.4)\n",
      "Requirement already satisfied: imageio>=2.3.0 in /home/cedric/anaconda3/lib/python3.7/site-packages (from scikit-image->darts) (2.6.1)\n",
      "Requirement already satisfied: certifi>=2020.06.20 in /home/cedric/anaconda3/lib/python3.7/site-packages (from matplotlib->darts) (2020.6.20)\n",
      "Requirement already satisfied: cycler>=0.10 in /home/cedric/anaconda3/lib/python3.7/site-packages (from matplotlib->darts) (0.10.0)\n",
      "Requirement already satisfied: pyparsing!=2.0.4,!=2.1.2,!=2.1.6,>=2.0.3 in /home/cedric/anaconda3/lib/python3.7/site-packages (from matplotlib->darts) (2.4.6)\n",
      "Requirement already satisfied: kiwisolver>=1.0.1 in /home/cedric/anaconda3/lib/python3.7/site-packages (from matplotlib->darts) (1.1.0)\n",
      "Requirement already satisfied: backcall in /home/cedric/anaconda3/lib/python3.7/site-packages (from ipython->darts) (0.1.0)\n",
      "Requirement already satisfied: setuptools>=18.5 in /home/cedric/anaconda3/lib/python3.7/site-packages (from ipython->darts) (45.2.0.post20200210)\n",
      "Requirement already satisfied: prompt-toolkit!=3.0.0,!=3.0.1,<3.1.0,>=2.0.0 in /home/cedric/anaconda3/lib/python3.7/site-packages (from ipython->darts) (3.0.3)\n",
      "Requirement already satisfied: pickleshare in /home/cedric/anaconda3/lib/python3.7/site-packages (from ipython->darts) (0.7.5)\n",
      "Requirement already satisfied: decorator in /home/cedric/anaconda3/lib/python3.7/site-packages (from ipython->darts) (4.4.1)\n",
      "Requirement already satisfied: jedi>=0.10 in /home/cedric/anaconda3/lib/python3.7/site-packages (from ipython->darts) (0.14.1)\n",
      "Requirement already satisfied: traitlets>=4.2 in /home/cedric/anaconda3/lib/python3.7/site-packages (from ipython->darts) (4.3.3)\n",
      "Requirement already satisfied: pygments in /home/cedric/anaconda3/lib/python3.7/site-packages (from ipython->darts) (2.5.2)\n",
      "Requirement already satisfied: pexpect>4.3; sys_platform != \"win32\" in /home/cedric/anaconda3/lib/python3.7/site-packages (from ipython->darts) (4.8.0)\n",
      "Requirement already satisfied: urllib3!=1.25.0,!=1.25.1,<1.26,>=1.21.1 in /home/cedric/anaconda3/lib/python3.7/site-packages (from requests[socks]->gdown->darts) (1.25.8)\n",
      "Requirement already satisfied: idna<2.9,>=2.5 in /home/cedric/anaconda3/lib/python3.7/site-packages (from requests[socks]->gdown->darts) (2.8)\n",
      "Requirement already satisfied: chardet<3.1.0,>=3.0.2 in /home/cedric/anaconda3/lib/python3.7/site-packages (from requests[socks]->gdown->darts) (3.0.4)\n",
      "Requirement already satisfied: PySocks!=1.5.7,>=1.5.6; extra == \"socks\" in /home/cedric/anaconda3/lib/python3.7/site-packages (from requests[socks]->gdown->darts) (1.7.1)\n",
      "Requirement already satisfied: wcwidth in /home/cedric/anaconda3/lib/python3.7/site-packages (from prompt-toolkit!=3.0.0,!=3.0.1,<3.1.0,>=2.0.0->ipython->darts) (0.1.8)\n",
      "Requirement already satisfied: parso>=0.5.0 in /home/cedric/anaconda3/lib/python3.7/site-packages (from jedi>=0.10->ipython->darts) (0.5.2)\n",
      "Requirement already satisfied: ipython-genutils in /home/cedric/anaconda3/lib/python3.7/site-packages (from traitlets>=4.2->ipython->darts) (0.2.0)\n",
      "Requirement already satisfied: ptyprocess>=0.5 in /home/cedric/anaconda3/lib/python3.7/site-packages (from pexpect>4.3; sys_platform != \"win32\"->ipython->darts) (0.6.0)\n",
      "Note: you may need to restart the kernel to use updated packages.\n"
     ]
    }
   ],
   "source": [
    "pip install darts"
   ]
  },
  {
   "cell_type": "code",
   "execution_count": null,
   "metadata": {},
   "outputs": [],
   "source": []
  }
 ],
 "metadata": {
  "kernelspec": {
   "display_name": "Python 3",
   "language": "python",
   "name": "python3"
  },
  "language_info": {
   "codemirror_mode": {
    "name": "ipython",
    "version": 3
   },
   "file_extension": ".py",
   "mimetype": "text/x-python",
   "name": "python",
   "nbconvert_exporter": "python",
   "pygments_lexer": "ipython3",
   "version": "3.7.6"
  }
 },
 "nbformat": 4,
 "nbformat_minor": 4
}
